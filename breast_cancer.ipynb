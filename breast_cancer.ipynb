{
  "nbformat": 4,
  "nbformat_minor": 0,
  "metadata": {
    "colab": {
      "provenance": [],
      "authorship_tag": "ABX9TyM+Ato8fv7/C7CvDzKyDy8f",
      "include_colab_link": true
    },
    "kernelspec": {
      "name": "python3",
      "display_name": "Python 3"
    },
    "language_info": {
      "name": "python"
    }
  },
  "cells": [
    {
      "cell_type": "markdown",
      "metadata": {
        "id": "view-in-github",
        "colab_type": "text"
      },
      "source": [
        "<a href=\"https://colab.research.google.com/github/vitamingyu/ml-dl-health_care/blob/main/breast_cancer.ipynb\" target=\"_parent\"><img src=\"https://colab.research.google.com/assets/colab-badge.svg\" alt=\"Open In Colab\"/></a>"
      ]
    },
    {
      "cell_type": "code",
      "source": [
        "import sys\n",
        "print('Python: {}'.format(sys.version))\n",
        "import scipy\n",
        "import numpy\n",
        "import matplotlib\n",
        "import pandas\n",
        "import sklearn\n",
        "pkgs = [scipy, numpy, matplotlib, pandas, sklearn]\n",
        "for pkg in pkgs:\n",
        "  print(f'{pkg.__name__}: {pkg.__version__}')"
      ],
      "metadata": {
        "colab": {
          "base_uri": "https://localhost:8080/"
        },
        "id": "1aU-5E4pic8H",
        "outputId": "0da925d9-c6bb-4689-bd5b-c9f1c2eeb97f"
      },
      "execution_count": 9,
      "outputs": [
        {
          "output_type": "stream",
          "name": "stdout",
          "text": [
            "Python: 3.10.12 (main, Jun 11 2023, 05:26:28) [GCC 11.4.0]\n",
            "scipy: 1.11.3\n",
            "numpy: 1.23.5\n",
            "matplotlib: 3.7.1\n",
            "pandas: 1.5.3\n",
            "sklearn: 1.2.2\n"
          ]
        }
      ]
    },
    {
      "cell_type": "code",
      "execution_count": 10,
      "metadata": {
        "id": "0I_F4Weih9dD"
      },
      "outputs": [],
      "source": [
        "import numpy as np\n",
        "from sklearn import preprocessing\n",
        "from sklearn.neighbors import KNeighborsClassifier\n",
        "from sklearn.svm import SVC\n",
        "from sklearn import model_selection\n",
        "from sklearn.metrics import classification_report\n",
        "from sklearn.metrics import accuracy_score\n",
        "from pandas.plotting import scatter_matrix\n",
        "import matplotlib.pyplot as plt\n",
        "import pandas as pd"
      ]
    },
    {
      "cell_type": "code",
      "source": [
        "# Load Dataset\n",
        "url = \"https://archive.ics.uci.edu/ml/machine-learning-databases/breast-cancer-wisconsin/breast-cancer-wisconsin.data\"\n",
        "names = ['id', 'clump_thickness', 'uniform_cell_size', 'uniform_cell_shape',\n",
        "       'marginal_adhesion', 'single_epithelial_size', 'bare_nuclei',\n",
        "       'bland_chromatin', 'normal_nucleoli', 'mitoses', 'class']\n",
        "df = pd.read_csv(url, names=names)"
      ],
      "metadata": {
        "id": "HnXsq2Tjmfud"
      },
      "execution_count": null,
      "outputs": []
    }
  ]
}